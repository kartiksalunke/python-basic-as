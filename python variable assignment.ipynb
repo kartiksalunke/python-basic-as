{
 "cells": [
  {
   "cell_type": "raw",
   "id": "fffb4e71-577c-4df6-9ba1-d9e8d3c430e9",
   "metadata": {},
   "source": [
    "1. \n",
    "ans A variable name must start with a letter or an underscore character (_) A variable name cannot start with a digit. A variable name can only contain alpha-numeric characters and underscores ( a-z, A-Z , 0-9 , and _ ) Variable names are case-sensitive (age, Age and AGE are three different variables)"
   ]
  },
  {
   "cell_type": "raw",
   "id": "8309cc1a-ec4e-49ba-9105-4d40a813b0ba",
   "metadata": {},
   "source": [
    "2.\n",
    "ans We'll get a SyntaxError"
   ]
  },
  {
   "cell_type": "raw",
   "id": "1bc93a17-3560-4b8a-a82d-5f6e3fdcb7bd",
   "metadata": {},
   "source": [
    "3.\n",
    "ans we can define a variable name with the string by adding the input string as a key into the symbol table."
   ]
  },
  {
   "cell_type": "raw",
   "id": "c464917f-fd00-45b9-ba8b-3ee16cdfa80c",
   "metadata": {},
   "source": [
    "4.\n",
    "ans. no"
   ]
  },
  {
   "cell_type": "raw",
   "id": "3cf0f653-9468-47ee-ae85-f56a35ff074d",
   "metadata": {},
   "source": [
    "5. \n",
    "ans the for loop and the globals() function are used to construct a dynamic variable name."
   ]
  },
  {
   "cell_type": "code",
   "execution_count": 8,
   "id": "100348d0-7fa1-44c9-be2c-6f91527c0964",
   "metadata": {},
   "outputs": [],
   "source": [
    "example\n",
    "\n",
    " a = 1"
   ]
  },
  {
   "cell_type": "code",
   "execution_count": null,
   "id": "3aa4e96a-c432-4b83-80b0-7401e9c0df6d",
   "metadata": {},
   "outputs": [],
   "source": []
  }
 ],
 "metadata": {
  "kernelspec": {
   "display_name": "Python 3 (ipykernel)",
   "language": "python",
   "name": "python3"
  },
  "language_info": {
   "codemirror_mode": {
    "name": "ipython",
    "version": 3
   },
   "file_extension": ".py",
   "mimetype": "text/x-python",
   "name": "python",
   "nbconvert_exporter": "python",
   "pygments_lexer": "ipython3",
   "version": "3.10.8"
  }
 },
 "nbformat": 4,
 "nbformat_minor": 5
}
